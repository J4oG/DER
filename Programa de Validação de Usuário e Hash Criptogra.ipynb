{
 "cells": [
  {
   "cell_type": "code",
   "execution_count": 31,
   "id": "58da0208",
   "metadata": {
    "scrolled": true
   },
   "outputs": [
    {
     "name": "stdout",
     "output_type": "stream",
     "text": [
      "Digite seu nome: João\n",
      "Digite sua senha: TSD2023çz\n",
      "Bem-vindo, João O login foi liberado.\n"
     ]
    }
   ],
   "source": [
    "import hashlib\n",
    "\n",
    "nome_login = 'João'\n",
    "senha_login = 'TSD2023çz'\n",
    "\n",
    "nome = input('Digite seu nome: ')\n",
    "senha = input('Digite sua senha: ')\n",
    "\n",
    "senha_hash = hashlib.sha256(senha.encode()).hexdigest()\n",
    "\n",
    "if nome == nome_login and senha_hash == hashlib.sha256(senha_login.encode()).hexdigest():\n",
    "    print(f'Bem-vindo, {nome_login} O login foi liberado.')\n",
    "else:\n",
    "    print('Acesso Negado.')"
   ]
  },
  {
   "cell_type": "code",
   "execution_count": null,
   "id": "a6875e22",
   "metadata": {},
   "outputs": [],
   "source": []
  }
 ],
 "metadata": {
  "kernelspec": {
   "display_name": "Python 3 (ipykernel)",
   "language": "python",
   "name": "python3"
  },
  "language_info": {
   "codemirror_mode": {
    "name": "ipython",
    "version": 3
   },
   "file_extension": ".py",
   "mimetype": "text/x-python",
   "name": "python",
   "nbconvert_exporter": "python",
   "pygments_lexer": "ipython3",
   "version": "3.10.9"
  }
 },
 "nbformat": 4,
 "nbformat_minor": 5
}
